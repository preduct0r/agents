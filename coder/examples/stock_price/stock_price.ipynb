{
 "cells": [
  {
   "cell_type": "code",
   "execution_count": 12,
   "metadata": {},
   "outputs": [
    {
     "data": {
      "text/plain": [
       "True"
      ]
     },
     "execution_count": 12,
     "metadata": {},
     "output_type": "execute_result"
    }
   ],
   "source": [
    "from IPython.display import Image, display\n",
    "\n",
    "import os\n",
    "import autogen\n",
    "from autogen.coding import LocalCommandLineCodeExecutor\n",
    "\n",
    "import sys\n",
    "sys.path.append(\"/home/den/projects/LLM/llm_agents_course/labs\")\n",
    "\n",
    "\n",
    "from dotenv import load_dotenv\n",
    "load_dotenv()"
   ]
  },
  {
   "cell_type": "code",
   "execution_count": 15,
   "metadata": {},
   "outputs": [],
   "source": [
    "# config_list = autogen.config_list_from_json(\n",
    "#     \"OAI_CONFIG_LIST\",\n",
    "#     filter_dict={\"tags\": [\"gpt-4o\"]},  # comment out to get all\n",
    "# )\n",
    "# When using a single openai endpoint, you can use the following:\n",
    "config_list = [{\"model\": \"gpt-4o\", \"api_key\": os.getenv(\"OPENAI_API_KEY\")}]"
   ]
  },
  {
   "cell_type": "code",
   "execution_count": 17,
   "metadata": {},
   "outputs": [
    {
     "name": "stdout",
     "output_type": "stream",
     "text": [
      "\u001b[33muser_proxy\u001b[0m (to assistant):\n",
      "\n",
      "What date is today? Compare the year-to-date gain for META and TESLA.\n",
      "\n",
      "--------------------------------------------------------------------------------\n"
     ]
    },
    {
     "name": "stdout",
     "output_type": "stream",
     "text": [
      "\u001b[33massistant\u001b[0m (to user_proxy):\n",
      "\n",
      "To compare the year-to-date gain for META (Meta Platforms, Inc.) and TESLA (Tesla, Inc.), we need to follow these steps:\n",
      "\n",
      "1. **Get the current date**: We'll use Python to get today's date.\n",
      "2. **Fetch stock data**: We'll retrieve the stock prices for META and TESLA from the beginning of the year to today.\n",
      "3. **Calculate year-to-date gain**: We'll calculate the percentage gain for each stock from the start of the year to today.\n",
      "\n",
      "Let's start by getting the current date and then proceed to fetch the stock data.\n",
      "\n",
      "```python\n",
      "from datetime import datetime\n",
      "\n",
      "# Get today's date\n",
      "today = datetime.now().date()\n",
      "print(f\"Today's date is: {today}\")\n",
      "```\n",
      "\n",
      "Please execute the code above to get today's date. Once we have the date, we can proceed to fetch the stock data.\n",
      "\n",
      "--------------------------------------------------------------------------------\n",
      "\u001b[31m\n",
      ">>>>>>>> EXECUTING CODE BLOCK (inferred language is python)...\u001b[0m\n",
      "\u001b[33muser_proxy\u001b[0m (to assistant):\n",
      "\n",
      "exitcode: 0 (execution succeeded)\n",
      "Code output: Today's date is: 2024-10-18\n",
      "\n",
      "\n",
      "--------------------------------------------------------------------------------\n",
      "\u001b[33massistant\u001b[0m (to user_proxy):\n",
      "\n",
      "Great! Now that we have today's date, let's proceed to fetch the stock data for META and TESLA from the beginning of the year to today. We'll use a financial data library like `yfinance` to get the historical stock prices.\n",
      "\n",
      "Here's the plan:\n",
      "1. Fetch the stock prices for META and TESLA from January 1, 2024, to October 18, 2024.\n",
      "2. Calculate the year-to-date gain for each stock.\n",
      "\n",
      "Let's execute the code to fetch the stock data and calculate the gains.\n",
      "\n",
      "```python\n",
      "# filename: stock_ytd_gain.py\n",
      "\n",
      "import yfinance as yf\n",
      "from datetime import datetime\n",
      "\n",
      "# Define the stock symbols\n",
      "stocks = ['META', 'TSLA']\n",
      "\n",
      "# Define the start and end dates\n",
      "start_date = '2024-01-01'\n",
      "end_date = datetime.now().strftime('%Y-%m-%d')\n",
      "\n",
      "# Fetch the stock data\n",
      "data = yf.download(stocks, start=start_date, end=end_date)\n",
      "\n",
      "# Calculate the year-to-date gain\n",
      "ytd_gains = {}\n",
      "for stock in stocks:\n",
      "    start_price = data['Adj Close'][stock].iloc[0]\n",
      "    end_price = data['Adj Close'][stock].iloc[-1]\n",
      "    ytd_gain = ((end_price - start_price) / start_price) * 100\n",
      "    ytd_gains[stock] = ytd_gain\n",
      "\n",
      "# Print the year-to-date gains\n",
      "for stock, gain in ytd_gains.items():\n",
      "    print(f\"Year-to-date gain for {stock}: {gain:.2f}%\")\n",
      "```\n",
      "\n",
      "Please save the code in a file named `stock_ytd_gain.py` and execute it. This will output the year-to-date gains for META and TESLA.\n",
      "\n",
      "--------------------------------------------------------------------------------\n",
      "\u001b[31m\n",
      ">>>>>>>> EXECUTING CODE BLOCK (inferred language is python)...\u001b[0m\n",
      "\u001b[33muser_proxy\u001b[0m (to assistant):\n",
      "\n",
      "exitcode: 0 (execution succeeded)\n",
      "Code output: \n",
      "[                       0%                       ]\n",
      "[*********************100%***********************]  2 of 2 completed\n",
      "Year-to-date gain for META: 67.10%\n",
      "Year-to-date gain for TSLA: -11.08%\n",
      "\n",
      "\n",
      "--------------------------------------------------------------------------------\n",
      "\u001b[33massistant\u001b[0m (to user_proxy):\n",
      "\n",
      "The year-to-date gain for META (Meta Platforms, Inc.) is 67.10%, while for TESLA (Tesla, Inc.), it is -11.08%. This means that META has experienced a significant increase in its stock price since the beginning of the year, whereas TESLA has seen a decrease.\n",
      "\n",
      "If you have any more questions or need further analysis, feel free to ask. Otherwise, this task is complete.\n",
      "\n",
      "TERMINATE\n",
      "\n",
      "--------------------------------------------------------------------------------\n"
     ]
    }
   ],
   "source": [
    "# create an AssistantAgent named \"assistant\"\n",
    "assistant = autogen.AssistantAgent(\n",
    "    name=\"assistant\",\n",
    "    llm_config={\n",
    "        \"cache_seed\": 41,  # seed for caching and reproducibility\n",
    "        \"config_list\": config_list,  # a list of OpenAI API configurations\n",
    "        \"temperature\": 0,  # temperature for sampling\n",
    "    },  # configuration for autogen's enhanced inference API which is compatible with OpenAI API\n",
    ")\n",
    "\n",
    "# create a UserProxyAgent instance named \"user_proxy\"\n",
    "user_proxy = autogen.UserProxyAgent(\n",
    "    name=\"user_proxy\",\n",
    "    human_input_mode=\"NEVER\",\n",
    "    max_consecutive_auto_reply=10,\n",
    "    is_termination_msg=lambda x: x.get(\"content\", \"\").rstrip().endswith(\"TERMINATE\"),\n",
    "    code_execution_config={\n",
    "        # the executor to run the generated code\n",
    "        \"executor\": LocalCommandLineCodeExecutor(work_dir=\"work_dir\"),\n",
    "    },\n",
    ")\n",
    "# the assistant receives a message from the user_proxy, which contains the task description\n",
    "chat_res = user_proxy.initiate_chat(\n",
    "    assistant,\n",
    "    message=\"\"\"What date is today? Compare the year-to-date gain for META and TESLA.\"\"\",\n",
    "    summary_method=\"reflection_with_llm\",\n",
    ")"
   ]
  },
  {
   "cell_type": "code",
   "execution_count": null,
   "metadata": {},
   "outputs": [],
   "source": []
  }
 ],
 "metadata": {
  "kernelspec": {
   "display_name": "agent_labs",
   "language": "python",
   "name": "python3"
  },
  "language_info": {
   "codemirror_mode": {
    "name": "ipython",
    "version": 3
   },
   "file_extension": ".py",
   "mimetype": "text/x-python",
   "name": "python",
   "nbconvert_exporter": "python",
   "pygments_lexer": "ipython3",
   "version": "3.11.9"
  }
 },
 "nbformat": 4,
 "nbformat_minor": 2
}
